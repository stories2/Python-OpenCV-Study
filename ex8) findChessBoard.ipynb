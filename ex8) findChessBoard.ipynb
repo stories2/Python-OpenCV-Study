{
 "cells": [
  {
   "cell_type": "markdown",
   "metadata": {},
   "source": [
    "# OpenCV 기본 예제"
   ]
  },
  {
   "cell_type": "markdown",
   "metadata": {},
   "source": [
    "이미지에서 엣지를 디텍팅하여 선을 추출해 내는 예제"
   ]
  },
  {
   "cell_type": "code",
   "execution_count": 1,
   "metadata": {
    "collapsed": false
   },
   "outputs": [
    {
     "name": "stderr",
     "output_type": "stream",
     "text": [
      "/usr/local/lib/python2.7/site-packages/matplotlib/font_manager.py:273: UserWarning: Matplotlib is building the font cache using fc-list. This may take a moment.\n",
      "  warnings.warn('Matplotlib is building the font cache using fc-list. This may take a moment.')\n"
     ]
    }
   ],
   "source": [
    "%matplotlib inline\n",
    "import cv2\n",
    "import numpy as np\n",
    "from matplotlib import pyplot as plt"
   ]
  },
  {
   "cell_type": "markdown",
   "metadata": {},
   "source": [
    "필요한 모듈 로드"
   ]
  },
  {
   "cell_type": "code",
   "execution_count": 2,
   "metadata": {
    "collapsed": true
   },
   "outputs": [],
   "source": [
    "chessBoardImage = cv2.imread('chessBoard.jpg', 0)"
   ]
  },
  {
   "cell_type": "markdown",
   "metadata": {},
   "source": [
    "타겟으로 할 체스 보드 이미지 로드"
   ]
  },
  {
   "cell_type": "code",
   "execution_count": 3,
   "metadata": {
    "collapsed": false
   },
   "outputs": [
    {
     "data": {
      "text/plain": [
       "<matplotlib.image.AxesImage at 0x11468e150>"
      ]
     },
     "execution_count": 3,
     "metadata": {},
     "output_type": "execute_result"
    },
    {
     "data": {
      "image/png": "[encoded data removed]",
      "text/plain": [
       "<matplotlib.figure.Figure at 0x1132de410>"
      ]
     },
     "metadata": {},
     "output_type": "display_data"
    }
   ],
   "source": [
    "plt.imshow(chessBoardImage, cmap = \"gray\")"
   ]
  },
  {
   "cell_type": "markdown",
   "metadata": {},
   "source": [
    "로드 테스트겸 출력"
   ]
  },
  {
   "cell_type": "code",
   "execution_count": 4,
   "metadata": {
    "collapsed": true
   },
   "outputs": [],
   "source": [
    "blankImage = np.zeros(chessBoardImage.shape, np.uint8)"
   ]
  },
  {
   "cell_type": "markdown",
   "metadata": {},
   "source": [
    "추출된 선을 그려낼 비어있는 이미지 생성"
   ]
  },
  {
   "cell_type": "code",
   "execution_count": 5,
   "metadata": {
    "collapsed": false
   },
   "outputs": [
    {
     "data": {
      "text/plain": [
       "<matplotlib.image.AxesImage at 0x11640a410>"
      ]
     },
     "execution_count": 5,
     "metadata": {},
     "output_type": "execute_result"
    },
    {
     "data": {
      "image/png": "[encoded data removed]",
      "text/plain": [
       "<matplotlib.figure.Figure at 0x110d8f8d0>"
      ]
     },
     "metadata": {},
     "output_type": "display_data"
    }
   ],
   "source": [
    "plt.imshow(blankImage, cmap = \"gray\")"
   ]
  },
  {
   "cell_type": "markdown",
   "metadata": {},
   "source": [
    "생성 후 테스트 출력"
   ]
  },
  {
   "cell_type": "code",
   "execution_count": 6,
   "metadata": {
    "collapsed": true
   },
   "outputs": [],
   "source": [
    "chessBoardEdges = cv2.Canny(chessBoardImage, chessBoardImage.shape[0], chessBoardImage.shape[1], \n",
    "                           apertureSize = 3)"
   ]
  },
  {
   "cell_type": "markdown",
   "metadata": {},
   "source": [
    "체스 보드 엣지 검출"
   ]
  },
  {
   "cell_type": "code",
   "execution_count": 7,
   "metadata": {
    "collapsed": false
   },
   "outputs": [
    {
     "data": {
      "text/plain": [
       "<matplotlib.image.AxesImage at 0x116a2a410>"
      ]
     },
     "execution_count": 7,
     "metadata": {},
     "output_type": "execute_result"
    },
    {
     "data": {
      "image/png": "[encoded data removed]",
      "text/plain": [
       "<matplotlib.figure.Figure at 0x111e11910>"
      ]
     },
     "metadata": {},
     "output_type": "display_data"
    }
   ],
   "source": [
    "plt.imshow(chessBoardEdges, cmap = \"gray\")"
   ]
  },
  {
   "cell_type": "markdown",
   "metadata": {},
   "source": [
    "검출 후 출력"
   ]
  },
  {
   "cell_type": "code",
   "execution_count": 8,
   "metadata": {
    "collapsed": false
   },
   "outputs": [
    {
     "name": "stdout",
     "output_type": "stream",
     "text": [
      "[[  78.            0.        ]\n",
      " [  78.            1.57079637]\n",
      " [ 374.            1.57079637]\n",
      " [ 374.            0.        ]\n",
      " [ 448.            1.57079637]\n",
      " [ 522.            1.57079637]\n",
      " [ 226.            1.57079637]\n",
      " [ 300.            1.57079637]\n",
      " [ 448.            0.        ]\n",
      " [ 522.            0.        ]\n",
      " [ 226.            0.        ]\n",
      " [ 300.            0.        ]\n",
      " [ 152.            0.        ]\n",
      " [ 152.            1.57079637]\n",
      " [ 596.            1.57079637]\n",
      " [ 596.            0.        ]\n",
      " [   4.            1.57079637]\n",
      " [   3.            0.        ]]\n"
     ]
    }
   ],
   "source": [
    "foundLines = cv2.HoughLines(chessBoardEdges, 1, np.pi / 180, 200)\n",
    "print foundLines[0]"
   ]
  },
  {
   "cell_type": "markdown",
   "metadata": {},
   "source": [
    "찾아진 픽셀 길이, 세타 정보를 출력"
   ]
  },
  {
   "cell_type": "code",
   "execution_count": 9,
   "metadata": {
    "collapsed": false
   },
   "outputs": [
    {
     "name": "stdout",
     "output_type": "stream",
     "text": [
      "(78, 1000) (78, -1000)\n",
      "(-1000, 77) (999, 78)\n",
      "(-1000, 373) (999, 374)\n",
      "(374, 1000) (374, -1000)\n",
      "(-1000, 447) (999, 448)\n",
      "(-1000, 521) (999, 522)\n",
      "(-1000, 225) (999, 226)\n",
      "(-1000, 299) (999, 300)\n",
      "(448, 1000) (448, -1000)\n",
      "(522, 1000) (522, -1000)\n",
      "(226, 1000) (226, -1000)\n",
      "(300, 1000) (300, -1000)\n",
      "(152, 1000) (152, -1000)\n",
      "(-1000, 151) (999, 152)\n",
      "(-1000, 595) (999, 596)\n",
      "(596, 1000) (596, -1000)\n",
      "(-1000, 3) (999, 4)\n",
      "(3, 1000) (3, -1000)\n"
     ]
    }
   ],
   "source": [
    "for pixelLength, lineDirectionTheta in foundLines[0]:\n",
    "    lineCosDirection = np.cos(lineDirectionTheta)\n",
    "    lineSinDirection = np.sin(lineDirectionTheta)\n",
    "    baseX = lineCosDirection * pixelLength\n",
    "    baseY = lineSinDirection * pixelLength\n",
    "    #print baseX, baseY\n",
    "    topLeftX = int(baseX + 1000 * -lineSinDirection)\n",
    "    topLeftY = int(baseY + 1000 * lineCosDirection)\n",
    "    botRightX = int(baseX - 1000 * -lineSinDirection)\n",
    "    botRightY = int(baseY - 1000 * lineCosDirection)\n",
    "    print (topLeftX, topLeftY), (botRightX, botRightY)\n",
    "    \n",
    "    cv2.line(blankImage, (topLeftX, topLeftY), (botRightX, botRightY), 255, 2)"
   ]
  },
  {
   "cell_type": "markdown",
   "metadata": {},
   "source": [
    "계산을 통해 선을 그림"
   ]
  },
  {
   "cell_type": "code",
   "execution_count": 10,
   "metadata": {
    "collapsed": false
   },
   "outputs": [
    {
     "data": {
      "text/plain": [
       "<matplotlib.image.AxesImage at 0x1170185d0>"
      ]
     },
     "execution_count": 10,
     "metadata": {},
     "output_type": "execute_result"
    },
    {
     "data": {
      "image/png": "[encoded data removed]",
      "text/plain": [
       "<matplotlib.figure.Figure at 0x116d81050>"
      ]
     },
     "metadata": {},
     "output_type": "display_data"
    }
   ],
   "source": [
    "plt.imshow(chessBoardImage, cmap = \"gray\")"
   ]
  },
  {
   "cell_type": "markdown",
   "metadata": {},
   "source": [
    "타겟 체스판 모습"
   ]
  },
  {
   "cell_type": "code",
   "execution_count": 11,
   "metadata": {
    "collapsed": false
   },
   "outputs": [
    {
     "data": {
      "text/plain": [
       "<matplotlib.image.AxesImage at 0x117372890>"
      ]
     },
     "execution_count": 11,
     "metadata": {},
     "output_type": "execute_result"
    },
    {
     "data": {
      "image/png": "[encoded data removed]",
      "text/plain": [
       "<matplotlib.figure.Figure at 0x1170a5910>"
      ]
     },
     "metadata": {},
     "output_type": "display_data"
    }
   ],
   "source": [
    "plt.imshow(blankImage, cmap = \"gray\")"
   ]
  },
  {
   "cell_type": "markdown",
   "metadata": {},
   "source": [
    "라인이 검출된 체스판 모습"
   ]
  }
 ],
 "metadata": {
  "kernelspec": {
   "display_name": "Python 2",
   "language": "python",
   "name": "python2"
  },
  "language_info": {
   "codemirror_mode": {
    "name": "ipython",
    "version": 2
   },
   "file_extension": ".py",
   "mimetype": "text/x-python",
   "name": "python",
   "nbconvert_exporter": "python",
   "pygments_lexer": "ipython2",
   "version": "2.7.10"
  }
 },
 "nbformat": 4,
 "nbformat_minor": 1
}
